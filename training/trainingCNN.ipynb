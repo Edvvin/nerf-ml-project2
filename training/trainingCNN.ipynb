{
 "cells": [
  {
   "cell_type": "markdown",
   "id": "dc6ef671",
   "metadata": {},
   "source": [
    "# Outline\n",
    "This file contains scripts for the training and evaluation of the 'CNN Model'"
   ]
  },
  {
   "cell_type": "markdown",
   "id": "86bbbfb5-a0cc-462f-a0cf-023e679f652a",
   "metadata": {},
   "source": [
    "# Training\n",
    "First we import the needed libraries"
   ]
  },
  {
   "cell_type": "code",
   "execution_count": 1,
   "id": "b1f187f2-b3da-463b-9c09-06dc12b2dc10",
   "metadata": {},
   "outputs": [],
   "source": [
    "import numpy as np\n",
    "from torch.utils.data import Dataset, DataLoader, random_split\n",
    "import torch\n",
    "import torch.nn as nn\n",
    "import torch.optim as optim\n",
    "from torch.utils.tensorboard import SummaryWriter\n",
    "import matplotlib\n",
    "from matplotlib import pyplot as plt\n",
    "import seaborn as sns\n",
    "import pandas as pd\n",
    "from datasets import AASequenceDataset\n",
    "from models import AASequenceModel\n",
    "from sklearn.metrics import roc_curve, precision_recall_curve, average_precision_score, auc\n",
    "from training_and_evaluation import evaluate_model_CNN, train_model_CNN"
   ]
  },
  {
   "cell_type": "markdown",
   "id": "30273557-c70e-47b5-96c7-8d3fb33c8a1d",
   "metadata": {},
   "source": [
    "## Loading the dataset and splitting it"
   ]
  },
  {
   "cell_type": "markdown",
   "id": "f9a7cb94",
   "metadata": {},
   "source": [
    "First let us define a collate function for the dataloaders"
   ]
  },
  {
   "cell_type": "code",
   "execution_count": 2,
   "id": "b63b38ff",
   "metadata": {},
   "outputs": [],
   "source": [
    "def my_collate(x):\n",
    "    '''\n",
    "    Converts array<tuple> to tuple<array>.\n",
    "    \n",
    "    Paramaters\n",
    "    ----------\n",
    "    x : array<tuple>\n",
    "    \n",
    "    Returns\n",
    "    -------\n",
    "    tuple<array>\n",
    "        Converted array of tuples\n",
    "    '''\n",
    "    return list(zip(*x))"
   ]
  },
  {
   "cell_type": "code",
   "execution_count": 3,
   "id": "1056e89d-c702-4706-9a92-4a4fa5e69ec5",
   "metadata": {},
   "outputs": [],
   "source": [
    "sequence_dataset = AASequenceDataset('./data/merged_data_train.tsv', onehot_input=True, multihot_output=True)\n",
    "slen = len(sequence_dataset) # Length of dataset\n",
    "\n",
    "# Split the set into a validation and test set\n",
    "val_set, train_set = random_split(sequence_dataset,\n",
    "                                [int(0.2 * slen), int(slen - int(0.2 * slen))],\n",
    "                                generator=torch.Generator().manual_seed(42))\n",
    "\n",
    "# Defineing the dataloader for training and validation\n",
    "dataloader = DataLoader(train_set, batch_size=300,\n",
    "                        shuffle=True, num_workers=0, collate_fn=my_collate)\n",
    "val_dataloader = DataLoader(val_set, batch_size=10,\n",
    "                        shuffle=True, num_workers=0, collate_fn=my_collate)"
   ]
  },
  {
   "cell_type": "markdown",
   "id": "406c9159-882a-4c8b-bb1c-8568a0334565",
   "metadata": {},
   "source": [
    "## The training\n",
    "First we prepare a couple of things for training"
   ]
  },
  {
   "cell_type": "code",
   "execution_count": 4,
   "id": "b5766217-b243-4518-bdfe-0b870832f985",
   "metadata": {},
   "outputs": [],
   "source": [
    "# Use cuda if cuda is available\n",
    "device = torch.device(\"cuda\" if torch.cuda.is_available() else \"cpu\")"
   ]
  },
  {
   "cell_type": "code",
   "execution_count": 5,
   "id": "5b0228d9-92a4-4816-a131-36c501a517c8",
   "metadata": {},
   "outputs": [],
   "source": [
    "writer = SummaryWriter() # Tensorboard\n",
    "model = AASequenceModel().to(device) #Load the device\n",
    "loss_fn = nn.BCEWithLogitsLoss(pos_weight=torch.tensor(51.86)).to(device)\n",
    "opt = optim.Adam(model.parameters(), lr=0.001) # Optimizer\n",
    "epoch_num = 5 # Number of epoch to train"
   ]
  },
  {
   "cell_type": "markdown",
   "id": "63121af2-ee44-4a57-9a82-32f36ae751db",
   "metadata": {},
   "source": [
    "We train the model and every certain number of steps we compute its performance on the validation set"
   ]
  },
  {
   "cell_type": "code",
   "execution_count": null,
   "id": "e03ad0b4-2cbf-4344-8ae1-74c491323c6c",
   "metadata": {},
   "outputs": [],
   "source": [
    "train_model_CNN(model=model,\n",
    "                dataloader=dataloader,\n",
    "                val_dataloader=val_dataloader,\n",
    "                epoch_num=epoch_num,\n",
    "                opt=opt,\n",
    "                loss_fn=loss_fn,\n",
    "                device=device,\n",
    "                file_path='./saved_models/CNN_onehot.nerf',\n",
    "                my_collate=my_collate,\n",
    "                writer = writer\n",
    "               )"
   ]
  },
  {
   "cell_type": "markdown",
   "id": "11cc0c6a",
   "metadata": {},
   "source": [
    "# Model evaluation"
   ]
  },
  {
   "cell_type": "code",
   "execution_count": 7,
   "id": "8ecd1c7f-de30-4ba7-912f-b8a1354b9501",
   "metadata": {},
   "outputs": [],
   "source": [
    "test_set = AASequenceDataset('./data/merged_data_test.tsv', onehot_input=True, multihot_output=True)\n",
    "\n",
    "test_dataloader = DataLoader(test_set, batch_size=300,\n",
    "                        shuffle=True, num_workers=0, collate_fn=my_collate)\n"
   ]
  },
  {
   "cell_type": "code",
   "execution_count": null,
   "id": "629b3228-25d9-483d-8e52-cdb1886cf292",
   "metadata": {},
   "outputs": [],
   "source": [
    "evaluate_model_CNN(model,\n",
    "                   test_dataloader,\n",
    "                   device)"
   ]
  }
 ],
 "metadata": {
  "kernelspec": {
   "display_name": "Python 3 (ipykernel)",
   "language": "python",
   "name": "python3"
  },
  "language_info": {
   "codemirror_mode": {
    "name": "ipython",
    "version": 3
   },
   "file_extension": ".py",
   "mimetype": "text/x-python",
   "name": "python",
   "nbconvert_exporter": "python",
   "pygments_lexer": "ipython3",
   "version": "3.8.12"
  }
 },
 "nbformat": 4,
 "nbformat_minor": 5
}
